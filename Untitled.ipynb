{
 "cells": [
  {
   "cell_type": "code",
   "execution_count": 1,
   "id": "b255f1c3-0ff4-4b43-bee5-8e7ce14fad71",
   "metadata": {},
   "outputs": [],
   "source": [
    "\"\"\"\n",
    "AI-native PMO demo\n",
    "Single-file demo that:\n",
    "- Creates mock data for collaboration sources in ./mock_store\n",
    "- Spins up a FastAPI mock API exposing each source\n",
    "- Implements simple agent classes: DataCollectors, GrainClassifier, Summarizer, ActionExtractor, Orchestrator, Nudger\n",
    "- Provides a /run_pipeline?grain=<grain_name> endpoint that runs the agent pipeline for a grain and returns the outputs\n",
    "\n",
    "Run:\n",
    "1. pip install fastapi uvicorn requests\n",
    "2. python ai_pmo_demo.py\n",
    "3. Open http://127.0.0.1:8000/docs to explore endpoints\n",
    "\n",
    "This is a lightweight demo suitable for local experimentation and extension.\n",
    "\"\"\"\n",
    "\n",
    "from fastapi import FastAPI, HTTPException\n",
    "from fastapi.responses import JSONResponse\n",
    "import uvicorn\n",
    "import os\n",
    "import json\n",
    "import time\n",
    "import threading\n",
    "from typing import List, Dict, Any\n",
    "import requests\n",
    "import re\n",
    "from datetime import datetime, timedelta\n",
    "\n",
    "# -----------------------------\n",
    "# Mock data creation\n",
    "# -----------------------------\n",
    "MOCK_DIR = \"mock_store\"\n",
    "if not os.path.exists(MOCK_DIR):\n",
    "    os.makedirs(MOCK_DIR)\n",
    "\n",
    "# Create mock collaboration data for multiple sources\n",
    "mock_data = {\n",
    "    \"jira\": [\n",
    "        {\"id\": \"JIRA-101\", \"project\": \"mobile-v3.2\", \"summary\": \"Login crash on Android 13\", \"status\": \"In Progress\", \"assignee\": \"alice\", \"updated\": \"2025-09-10T09:12:00\"},\n",
    "        {\"id\": \"JIRA-110\", \"project\": \"mobile-v3.2\", \"summary\": \"Implement new onboarding flow\", \"status\": \"Ready for QA\", \"assignee\": \"bob\", \"updated\": \"2025-09-11T16:00:00\"},\n",
    "    ],\n",
    "    \"azure_devops\": [\n",
    "        {\"id\": \"ADO-501\", \"project\": \"infra\", \"summary\": \"Update staging with DB migration\", \"status\": \"Open\", \"assignee\": \"devops\", \"updated\": \"2025-09-09T11:00:00\"}\n",
    "    ],\n",
    "    \"sharepoint\": [\n",
    "        {\"id\": \"DOC-1\", \"project\": \"mobile-v3.2\", \"title\": \"Design Spec - Onboarding\", \"content\": \"Design decisions: use progressive onboarding. Pending approval from @designer.\", \"updated\": \"2025-09-08T10:00:00\"}\n",
    "    ],\n",
    "    \"confluence\": [\n",
    "        {\"id\": \"CONF-7\", \"project\": \"mobile-v3.2\", \"title\": \"Release Notes Draft\", \"content\": \"v3.2: performance improvements, bug fixes. TODO: confirm analytics event names.\", \"updated\": \"2025-09-10T09:00:00\"}\n",
    "    ],\n",
    "    \"outlook\": [\n",
    "        {\"id\": \"EMAIL-501\", \"project\": \"mobile-v3.2\", \"from\": \"pm@example.com\", \"to\": [\"team@example.com\"], \"subject\": \"Design approval needed\", \"body\": \"Design must be approved by Monday. @designer please confirm.\", \"date\": \"2025-09-11T08:00:00\"}\n",
    "    ],\n",
    "    \"teams\": [\n",
    "        {\"id\": \"MSG-9001\", \"project\": \"mobile-v3.2\", \"channel\": \"#mobile-release\", \"user\": \"carol\", \"text\": \"I think the onboarding copy needs legal review. Action: @legal to review by 2025-09-13.\", \"ts\": \"2025-09-11T12:34:00\"},\n",
    "        {\"id\": \"MSG-9002\", \"project\": \"mobile-v3.2\", \"channel\": \"#mobile-release\", \"user\": \"dave\", \"text\": \"We deployed a fix to staging. Noticed a flakey test. TODO: investigate failing e2e.\", \"ts\": \"2025-09-11T15:00:00\"}\n",
    "    ],\n",
    "    \"zoom_transcripts\": [\n",
    "        {\"id\": \"ZOOM-300\", \"project\": \"mobile-v3.2\", \"participants\": [\"alice\",\"bob\",\"pm\"], \"transcript\": \"Alice: we will need design sign-off. Bob: I can pick it after lunch. PM: schedule a 15-min decision sync if unresolved.\", \"date\": \"2025-09-10T14:00:00\"}\n",
    "    ]\n",
    "}\n",
    "\n",
    "# Write mock data files\n",
    "for k, v in mock_data.items():\n",
    "    path = os.path.join(MOCK_DIR, f\"{k}.json\")\n",
    "    with open(path, \"w\") as f:\n",
    "        json.dump(v, f, indent=2)\n"
   ]
  },
  {
   "cell_type": "code",
   "execution_count": 2,
   "id": "205d245f-c91f-4136-9d55-0c96a95cad73",
   "metadata": {},
   "outputs": [
    {
     "data": {
      "text/plain": [
       "{'jira': [{'id': 'JIRA-101',\n",
       "   'project': 'mobile-v3.2',\n",
       "   'summary': 'Login crash on Android 13',\n",
       "   'status': 'In Progress',\n",
       "   'assignee': 'alice',\n",
       "   'updated': '2025-09-10T09:12:00'},\n",
       "  {'id': 'JIRA-110',\n",
       "   'project': 'mobile-v3.2',\n",
       "   'summary': 'Implement new onboarding flow',\n",
       "   'status': 'Ready for QA',\n",
       "   'assignee': 'bob',\n",
       "   'updated': '2025-09-11T16:00:00'}],\n",
       " 'azure_devops': [{'id': 'ADO-501',\n",
       "   'project': 'infra',\n",
       "   'summary': 'Update staging with DB migration',\n",
       "   'status': 'Open',\n",
       "   'assignee': 'devops',\n",
       "   'updated': '2025-09-09T11:00:00'}],\n",
       " 'sharepoint': [{'id': 'DOC-1',\n",
       "   'project': 'mobile-v3.2',\n",
       "   'title': 'Design Spec - Onboarding',\n",
       "   'content': 'Design decisions: use progressive onboarding. Pending approval from @designer.',\n",
       "   'updated': '2025-09-08T10:00:00'}],\n",
       " 'confluence': [{'id': 'CONF-7',\n",
       "   'project': 'mobile-v3.2',\n",
       "   'title': 'Release Notes Draft',\n",
       "   'content': 'v3.2: performance improvements, bug fixes. TODO: confirm analytics event names.',\n",
       "   'updated': '2025-09-10T09:00:00'}],\n",
       " 'outlook': [{'id': 'EMAIL-501',\n",
       "   'project': 'mobile-v3.2',\n",
       "   'from': 'pm@example.com',\n",
       "   'to': ['team@example.com'],\n",
       "   'subject': 'Design approval needed',\n",
       "   'body': 'Design must be approved by Monday. @designer please confirm.',\n",
       "   'date': '2025-09-11T08:00:00'}],\n",
       " 'teams': [{'id': 'MSG-9001',\n",
       "   'project': 'mobile-v3.2',\n",
       "   'channel': '#mobile-release',\n",
       "   'user': 'carol',\n",
       "   'text': 'I think the onboarding copy needs legal review. Action: @legal to review by 2025-09-13.',\n",
       "   'ts': '2025-09-11T12:34:00'},\n",
       "  {'id': 'MSG-9002',\n",
       "   'project': 'mobile-v3.2',\n",
       "   'channel': '#mobile-release',\n",
       "   'user': 'dave',\n",
       "   'text': 'We deployed a fix to staging. Noticed a flakey test. TODO: investigate failing e2e.',\n",
       "   'ts': '2025-09-11T15:00:00'}],\n",
       " 'zoom_transcripts': [{'id': 'ZOOM-300',\n",
       "   'project': 'mobile-v3.2',\n",
       "   'participants': ['alice', 'bob', 'pm'],\n",
       "   'transcript': 'Alice: we will need design sign-off. Bob: I can pick it after lunch. PM: schedule a 15-min decision sync if unresolved.',\n",
       "   'date': '2025-09-10T14:00:00'}]}"
      ]
     },
     "execution_count": 2,
     "metadata": {},
     "output_type": "execute_result"
    }
   ],
   "source": [
    "mock_data"
   ]
  },
  {
   "cell_type": "code",
   "execution_count": 3,
   "id": "976403a0-fe90-4cbf-b10a-4ff7921db06d",
   "metadata": {},
   "outputs": [],
   "source": [
    "\n",
    "# -----------------------------\n",
    "# FastAPI mock server exposing the mock_store\n",
    "# -----------------------------\n",
    "mock_api = FastAPI(title=\"Mock Collaboration API\")\n",
    "\n",
    "@mock_api.get(\"/sources/{source_name}\")\n",
    "def read_source(source_name: str):\n",
    "    path = os.path.join(MOCK_DIR, f\"{source_name}.json\")\n",
    "    if not os.path.exists(path):\n",
    "        raise HTTPException(status_code=404, detail=\"Source not found\")\n",
    "    with open(path) as f:\n",
    "        return JSONResponse(content=json.load(f))\n",
    "\n",
    "@mock_api.get(\"/sources\")\n",
    "def list_sources():\n",
    "    files = [f.replace('.json','') for f in os.listdir(MOCK_DIR) if f.endswith('.json')]\n",
    "    return {\"sources\": files}\n",
    "\n",
    "# Run the mock server in a thread so main app can also run\n",
    "\n",
    "def run_mock_api():\n",
    "    uvicorn.run(mock_api, host=\"127.0.0.1\", port=8001, log_level=\"warning\")\n"
   ]
  },
  {
   "cell_type": "code",
   "execution_count": 4,
   "id": "b9fa782f-0035-4250-98c4-c0fe12b7032b",
   "metadata": {},
   "outputs": [
    {
     "data": {
      "text/plain": [
       "<fastapi.applications.FastAPI at 0x10925ad50>"
      ]
     },
     "execution_count": 4,
     "metadata": {},
     "output_type": "execute_result"
    }
   ],
   "source": [
    "mock_api"
   ]
  },
  {
   "cell_type": "code",
   "execution_count": 5,
   "id": "de5734f6-b577-461e-b1cd-fc6e8a8778b9",
   "metadata": {},
   "outputs": [
    {
     "name": "stdout",
     "output_type": "stream",
     "text": [
      "mocck thread started\n"
     ]
    }
   ],
   "source": [
    "\n",
    "mock_thread = threading.Thread(target=run_mock_api, daemon=True)\n",
    "mock_thread.start()\n",
    "print(\"mocck thread started\")\n",
    "# Small delay to let mock API start\n",
    "time.sleep(0.8)\n",
    "\n"
   ]
  },
  {
   "cell_type": "code",
   "execution_count": 6,
   "id": "81bba730-aa26-4c9f-9a64-e20f5d9c1661",
   "metadata": {},
   "outputs": [
    {
     "data": {
      "text/plain": [
       "<function __main__.run_mock_api()>"
      ]
     },
     "execution_count": 6,
     "metadata": {},
     "output_type": "execute_result"
    }
   ],
   "source": [
    "run_mock_api"
   ]
  },
  {
   "cell_type": "code",
   "execution_count": null,
   "id": "120af285-5dfb-468c-8afa-29c11772a855",
   "metadata": {},
   "outputs": [],
   "source": []
  },
  {
   "cell_type": "code",
   "execution_count": null,
   "id": "2f225f44-252c-4330-a428-b5fff5ea8e65",
   "metadata": {},
   "outputs": [
    {
     "name": "stderr",
     "output_type": "stream",
     "text": [
      "INFO:     Will watch for changes in these directories: ['/Users/sushil/Documents/CODE_BASE/cerebro']\n",
      "INFO:     Uvicorn running on http://127.0.0.1:8000 (Press CTRL+C to quit)\n",
      "INFO:     Started reloader process [75517] using WatchFiles\n",
      "ERROR:    [Errno 48] error while attempting to bind on address ('127.0.0.1', 8001): address already in use\n",
      "ERROR:    Error loading ASGI app. Attribute \"app\" not found in module \"data_mocker\".\n"
     ]
    },
    {
     "name": "stdout",
     "output_type": "stream",
     "text": [
      "mocck thread started\n",
      "INFO:     127.0.0.1:55806 - \"GET / HTTP/1.1\" 404 Not Found\n",
      "INFO:     127.0.0.1:55806 - \"GET /favicon.ico HTTP/1.1\" 404 Not Found\n",
      "INFO:     127.0.0.1:55808 - \"GET / HTTP/1.1\" 404 Not Found\n",
      "INFO:     127.0.0.1:56004 - \"GET /sources HTTP/1.1\" 200 OK\n",
      "INFO:     127.0.0.1:56081 - \"GET /sources/outlook HTTP/1.1\" 200 OK\n",
      "INFO:     127.0.0.1:56081 - \"GET /sources/outlook HTTP/1.1\" 200 OK\n",
      "INFO:     127.0.0.1:56363 - \"GET /sources/jira HTTP/1.1\" 200 OK\n",
      "INFO:     127.0.0.1:56363 - \"GET /sources/jira HTTP/1.1\" 200 OK\n"
     ]
    }
   ],
   "source": [
    "from fastapi import FastAPI\n",
    "import uvicorn\n",
    "\n",
    "app = FastAPI()\n",
    "\n",
    "@app.get(\"/\")\n",
    "def root():\n",
    "    return {\"hello\": \"world\"}\n",
    "\n",
    "if __name__ == \"__main__\":\n",
    "    uvicorn.run(\"data_mocker:app\", host=\"127.0.0.1\", port=8000, reload=True)"
   ]
  },
  {
   "cell_type": "code",
   "execution_count": null,
   "id": "73c7f6ea-2a09-48de-9fe6-7453658f5aad",
   "metadata": {},
   "outputs": [],
   "source": []
  },
  {
   "cell_type": "code",
   "execution_count": null,
   "id": "d9765efa-b5d1-460a-a0cc-e6c9085c26d4",
   "metadata": {},
   "outputs": [],
   "source": []
  }
 ],
 "metadata": {
  "kernelspec": {
   "display_name": "Python 3 (ipykernel)",
   "language": "python",
   "name": "python3"
  },
  "language_info": {
   "codemirror_mode": {
    "name": "ipython",
    "version": 3
   },
   "file_extension": ".py",
   "mimetype": "text/x-python",
   "name": "python",
   "nbconvert_exporter": "python",
   "pygments_lexer": "ipython3",
   "version": "3.11.7"
  }
 },
 "nbformat": 4,
 "nbformat_minor": 5
}
